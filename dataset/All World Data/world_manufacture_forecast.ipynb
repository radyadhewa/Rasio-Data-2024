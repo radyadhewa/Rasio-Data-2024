{
 "cells": [
  {
   "cell_type": "code",
   "execution_count": null,
   "id": "e1163ac2-3f5c-4919-a9a6-c87a80e1f88c",
   "metadata": {},
   "outputs": [],
   "source": []
  }
 ],
 "metadata": {
  "kernelspec": {
   "display_name": "",
   "name": ""
  },
  "language_info": {
   "name": ""
  }
 },
 "nbformat": 4,
 "nbformat_minor": 5
}
